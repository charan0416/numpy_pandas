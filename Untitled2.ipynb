{
  "nbformat": 4,
  "nbformat_minor": 0,
  "metadata": {
    "colab": {
      "provenance": [],
      "authorship_tag": "ABX9TyOg7Ee5vZ5jBiRLgwrJHwYB",
      "include_colab_link": true
    },
    "kernelspec": {
      "name": "python3",
      "display_name": "Python 3"
    },
    "language_info": {
      "name": "python"
    }
  },
  "cells": [
    {
      "cell_type": "markdown",
      "metadata": {
        "id": "view-in-github",
        "colab_type": "text"
      },
      "source": [
        "<a href=\"https://colab.research.google.com/github/charan0416/numpy_pandas/blob/main/Untitled2.ipynb\" target=\"_parent\"><img src=\"https://colab.research.google.com/assets/colab-badge.svg\" alt=\"Open In Colab\"/></a>"
      ]
    },
    {
      "cell_type": "markdown",
      "source": [
        "map() function pandas"
      ],
      "metadata": {
        "id": "5AlFIFCRGNLh"
      }
    },
    {
      "cell_type": "code",
      "execution_count": 12,
      "metadata": {
        "colab": {
          "base_uri": "https://localhost:8080/"
        },
        "id": "MtajuXqvEj1x",
        "outputId": "69220545-51b8-4dff-c08a-e9a61f2786a4"
      },
      "outputs": [
        {
          "output_type": "stream",
          "name": "stdout",
          "text": [
            "0    A\n",
            "1    B\n",
            "2    C\n",
            "3    D\n",
            "dtype: object\n"
          ]
        }
      ],
      "source": [
        "import pandas as pd\n",
        "\n",
        "s = pd.Series([1, 2, 3, 4])\n",
        "dict = {1: 'A', 2: 'B', 3: 'C', 4: 'D'}\n",
        "result = s.map(dict)\n",
        "print(result)\n"
      ]
    },
    {
      "cell_type": "code",
      "source": [
        "result = s.map(lambda x: x * 2)\n",
        "print(result)\n"
      ],
      "metadata": {
        "colab": {
          "base_uri": "https://localhost:8080/"
        },
        "id": "YaICBCzsFdz_",
        "outputId": "e1d48d47-9885-4b8e-8660-299403df03c1"
      },
      "execution_count": 9,
      "outputs": [
        {
          "output_type": "stream",
          "name": "stdout",
          "text": [
            "0    2\n",
            "1    4\n",
            "2    6\n",
            "3    8\n",
            "dtype: int64\n"
          ]
        }
      ]
    },
    {
      "cell_type": "markdown",
      "source": [
        "applymap() function pandas"
      ],
      "metadata": {
        "id": "BgqI8LMRGe68"
      }
    },
    {
      "cell_type": "code",
      "source": [
        "data = pd.DataFrame({'A': [1, 2, 3], 'B': [4, 5, 6]})\n",
        "result = data.applymap(lambda x: x + 2)\n",
        "print(result)"
      ],
      "metadata": {
        "colab": {
          "base_uri": "https://localhost:8080/"
        },
        "id": "ZqaejpAFGYzu",
        "outputId": "a221660b-d484-49f1-cf72-8df115fa8b3e"
      },
      "execution_count": 13,
      "outputs": [
        {
          "output_type": "stream",
          "name": "stdout",
          "text": [
            "   A  B\n",
            "0  3  6\n",
            "1  4  7\n",
            "2  5  8\n"
          ]
        },
        {
          "output_type": "stream",
          "name": "stderr",
          "text": [
            "<ipython-input-13-b99492bf9236>:2: FutureWarning: DataFrame.applymap has been deprecated. Use DataFrame.map instead.\n",
            "  result = data.applymap(lambda x: x + 2)\n"
          ]
        }
      ]
    },
    {
      "cell_type": "markdown",
      "source": [],
      "metadata": {
        "id": "-Dp50Qq6GX9X"
      }
    },
    {
      "cell_type": "markdown",
      "source": [
        "apply() function"
      ],
      "metadata": {
        "id": "dy_kxpXnIb9b"
      }
    },
    {
      "cell_type": "code",
      "source": [
        "data = pd.DataFrame({'A': [1, 2, 3], 'B': [4, 5, 6]})\n",
        "result = data.apply(lambda x: x + 2)\n",
        "print(result)\n"
      ],
      "metadata": {
        "colab": {
          "base_uri": "https://localhost:8080/"
        },
        "id": "GHX1JNPhGWDg",
        "outputId": "eb368951-d0b4-4156-fb18-234ccee35f8d"
      },
      "execution_count": 14,
      "outputs": [
        {
          "output_type": "stream",
          "name": "stdout",
          "text": [
            "   A  B\n",
            "0  3  6\n",
            "1  4  7\n",
            "2  5  8\n"
          ]
        }
      ]
    },
    {
      "cell_type": "code",
      "source": [
        "cars = pd.DataFrame({'bently','range rover','fortuner'})\n",
        "results =cars.apply(lambda x: x + 'car')\n",
        "print(results)"
      ],
      "metadata": {
        "colab": {
          "base_uri": "https://localhost:8080/"
        },
        "id": "GpzHjwRbHIsZ",
        "outputId": "02506ed7-e98e-4d95-f3b9-fd4ef189aeee"
      },
      "execution_count": 25,
      "outputs": [
        {
          "output_type": "stream",
          "name": "stdout",
          "text": [
            "                0\n",
            "0  range rovercar\n",
            "1       bentlycar\n",
            "2     fortunercar\n"
          ]
        }
      ]
    }
  ]
}